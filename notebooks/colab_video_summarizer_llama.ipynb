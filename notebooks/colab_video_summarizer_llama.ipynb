{
  "nbformat": 4,
  "nbformat_minor": 0,
  "metadata": {
    "colab": {
      "provenance": [],
      "gpuType": "T4",
      "include_colab_link": true
    },
    "kernelspec": {
      "name": "python3",
      "display_name": "Python 3"
    },
    "language_info": {
      "name": "python"
    },
    "accelerator": "GPU"
  },
  "cells": [
    {
      "cell_type": "markdown",
      "metadata": {
        "id": "view-in-github",
        "colab_type": "text"
      },
      "source": [
        "<a href=\"https://colab.research.google.com/github/Oleksy1121/video-summarizer/blob/main/notebooks/colab_video_summarizer_llama.ipynb\" target=\"_parent\"><img src=\"https://colab.research.google.com/assets/colab-badge.svg\" alt=\"Open In Colab\"/></a>"
      ]
    },
    {
      "cell_type": "code",
      "execution_count": null,
      "metadata": {
        "id": "aGFg3ZQfHNVK",
        "colab": {
          "base_uri": "https://localhost:8080/"
        },
        "outputId": "60386dfa-6cc2-4e17-852a-dc29d4c906ce"
      },
      "outputs": [
        {
          "output_type": "stream",
          "name": "stdout",
          "text": [
            "\u001b[2K     \u001b[90m━━━━━━━━━━━━━━━━━━━━━━━━━━━━━━━━━━━━━━━\u001b[0m \u001b[32m175.9/175.9 kB\u001b[0m \u001b[31m4.0 MB/s\u001b[0m eta \u001b[36m0:00:00\u001b[0m\n",
            "\u001b[2K   \u001b[90m━━━━━━━━━━━━━━━━━━━━━━━━━━━━━━━━━━━━━━━━\u001b[0m \u001b[32m3.2/3.2 MB\u001b[0m \u001b[31m25.1 MB/s\u001b[0m eta \u001b[36m0:00:00\u001b[0m\n",
            "\u001b[2K   \u001b[90m━━━━━━━━━━━━━━━━━━━━━━━━━━━━━━━━━━━━━━━━\u001b[0m \u001b[32m61.3/61.3 MB\u001b[0m \u001b[31m12.2 MB/s\u001b[0m eta \u001b[36m0:00:00\u001b[0m\n",
            "\u001b[?25h"
          ]
        }
      ],
      "source": [
        "!pip install -q yt-dlp requests torch bitsandbytes transformers sentencepiece accelerate"
      ]
    },
    {
      "cell_type": "code",
      "source": [
        "# Imports\n",
        "\n",
        "import os\n",
        "import requests\n",
        "import subprocess\n",
        "from IPython.display import Markdown, display, update_display\n",
        "from openai import OpenAI\n",
        "from google.colab import drive\n",
        "from google.colab import userdata\n",
        "from huggingface_hub import login, snapshot_download\n",
        "from transformers import AutoTokenizer, AutoModelForCausalLM, TextStreamer, BitsAndBytesConfig\n",
        "import torch"
      ],
      "metadata": {
        "id": "SUXyrRe7HqVp"
      },
      "execution_count": null,
      "outputs": []
    },
    {
      "cell_type": "code",
      "source": [
        "# Constant\n",
        "\n",
        "AUDIO_MODEL = 'whisper-1'\n",
        "LLAMA = \"meta-llama/Meta-Llama-3.1-8B-Instruct\"\n",
        "\n",
        "AUDIO_FILENAME = \"audio.mp3\"\n",
        "URL = \"https://www.youtube.com/watch?v=TMkoX1kfyDs&t=8s\""
      ],
      "metadata": {
        "id": "Pa7BlboLH9-B"
      },
      "execution_count": null,
      "outputs": []
    },
    {
      "cell_type": "code",
      "source": [
        "# Download Audio\n",
        "\n",
        "subprocess.run([\"yt-dlp\", \"-x\", \"--audio-format\", \"mp3\", URL, \"-o\", AUDIO_FILENAME])"
      ],
      "metadata": {
        "colab": {
          "base_uri": "https://localhost:8080/"
        },
        "id": "WQp3qIXU7SU1",
        "outputId": "5677e575-13d6-4d25-de74-07f17b34c9b1"
      },
      "execution_count": null,
      "outputs": [
        {
          "output_type": "execute_result",
          "data": {
            "text/plain": [
              "CompletedProcess(args=['yt-dlp', '-x', '--audio-format', 'mp3', 'https://www.youtube.com/watch?v=TMkoX1kfyDs&t=8s', '-o', 'audio.mp3'], returncode=0)"
            ]
          },
          "metadata": {},
          "execution_count": 4
        }
      ]
    },
    {
      "cell_type": "code",
      "source": [
        "# Api Keys\n",
        "\n",
        "hf_token = userdata.get('HF_TOKEN')\n",
        "login(hf_token, add_to_git_credential=True)\n",
        "\n",
        "openai_api_key = userdata.get('OPENAI_API_KEY')\n",
        "openai = OpenAI(api_key=openai_api_key)"
      ],
      "metadata": {
        "id": "_C6hlQ6Z9vTr"
      },
      "execution_count": null,
      "outputs": []
    },
    {
      "cell_type": "code",
      "source": [
        "# Generate transcription using OpenAI \"whisper-1\" model\n",
        "\n",
        "audio_file = open(AUDIO_FILENAME, \"rb\")\n",
        "transcription = openai.audio.transcriptions.create(model=AUDIO_MODEL, file=audio_file, response_format=\"text\")\n",
        "print(transcription)"
      ],
      "metadata": {
        "colab": {
          "base_uri": "https://localhost:8080/"
        },
        "id": "i0WPPJCPNeaz",
        "outputId": "aaee2b92-dcb2-4935-acf9-d5ea3defebe3"
      },
      "execution_count": null,
      "outputs": [
        {
          "output_type": "stream",
          "name": "stdout",
          "text": [
            "The west bank of the River Nile, home to the world's most iconic monuments, the mighty Pyramids of Giza. The pyramids once housed the bodies of the pharaohs. But though ancient Egyptian civilization lasted for nearly 3,000 years, its kings only built huge tombs like these for a few centuries. Egyptologists are still trying to piece together why the pharaohs stopped constructing giant pyramids. For Egyptologist Chris Naunton, the majesty of the ancient structures makes the fact that Egyptians gave up building them all the more incredible. Ten miles south of the legendary Pyramids of Giza is Saqqara. When we think about pyramids, we tend to think of Giza, I think, and the Great Pyramid of Khufu in particular, but actually this is where it all began. Chris has come to the birthplace of pyramid building to search for clues to why Egyptians built giant pyramids for less than 500 years. Constructed a century before the iconic pyramids at Giza, Egypt's first pyramid is a 200-foot-tall mausoleum of six huge limestone platforms, carefully engineered to spread the weight of rock and prevent collapse. Deep inside is a giant shaft, 26 feet wide and 82 feet deep. At the bottom, the intended final resting place of the pharaoh Djoser. Ultimately, that's what it's all about. That's where the body of the king is going to rest in eternity. To have gone to all this trouble to create this incredible monument around the body of that person, it's pretty amazing. To house his mummy, huge chunks of granite were slid down a passage into the shaft and stacked, creating a giant sarcophagus 19 feet long and 11 feet high. My God, these pieces are huge. Wow, it's amazing. But this wasn't just a tomb designed to secure the pharaoh's physical body for eternity. Crucially, for success in the afterlife, the pyramid ensured the king was remembered by the living. Completed around 2650 BC, it sparked an architectural revolution. Djoser's six-tiered giant wasn't just the first pyramid. It was the world's first monumental structure built in stone. Over the next century, Egypt's kings developed the concept, building monumental tombs all along the Nile's west bank, including the first geometrically true pyramid, the Red Pyramid, and a misshapen experiment, the Bent Pyramid. Then, a dynasty of pharaohs built the most iconic monuments in Egypt, the Pyramids of Giza. But just a few short centuries after the Great Pyramid of Khufu rose from the desert, a new era was on the horizon. Transcription by ESO, translation by —\n",
            "\n"
          ]
        }
      ]
    },
    {
      "cell_type": "code",
      "source": [
        "# Create prompts\n",
        "\n",
        "system_message = \"You are an assistant that summarizes YouTube videos by highlighting the most important points and events, in clear Markdown format.\"\n",
        "user_prompt = f\"Below is the transcript of a YouTube video. Please write a summary describing the key moments, main ideas, and highlights in a structured way (using bullet points or short sections).\\n\\n{transcription}\"\n",
        "\n",
        "messages = [\n",
        "    {\"role\": \"system\", \"content\": system_message},\n",
        "    {\"role\": \"user\", \"content\": user_prompt}\n",
        "]"
      ],
      "metadata": {
        "id": "gjvravCiN_5C"
      },
      "execution_count": null,
      "outputs": []
    },
    {
      "cell_type": "code",
      "source": [
        "# Quantization\n",
        "\n",
        "quant_config = BitsAndBytesConfig(\n",
        "    load_in_4bit=True,\n",
        "    bnb_4bit_use_double_quant=True,\n",
        "    bnb_4bit_compute_dtype=torch.bfloat16,\n",
        "    bnb_4bit_quant_type=\"nf4\"\n",
        ")"
      ],
      "metadata": {
        "id": "WtBYhxVLROpf"
      },
      "execution_count": null,
      "outputs": []
    },
    {
      "cell_type": "code",
      "source": [
        "# Generate Summarize using LLAMA model\n",
        "\n",
        "tokenizer = AutoTokenizer.from_pretrained(LLAMA)\n",
        "tokenizer.pad_token = tokenizer.eos_token\n",
        "inputs = tokenizer.apply_chat_template(messages, return_tensors=\"pt\").to(\"cuda\")\n",
        "model = AutoModelForCausalLM.from_pretrained(LLAMA,\n",
        "                                             device_map=\"auto\",\n",
        "                                             quantization_config=quant_config)\n",
        "outputs = model.generate(inputs, max_new_tokens=2000)"
      ],
      "metadata": {
        "colab": {
          "base_uri": "https://localhost:8080/",
          "height": 473,
          "referenced_widgets": [
            "ea9f7178b5ec4df2a038995209999ed7",
            "377e667eb1114e2cb6644a9fafea16da",
            "f2de3870aa8c4da68bd94ad86407cceb",
            "62b98ea015d649168e319a7b1974e034",
            "4d4cfcd4d29449fea323b15ecb6d899e",
            "2ade34997c224f00b2ca9aad88b10f81",
            "991fa180a7354878ad819c8358951536",
            "06c693f60a3443a3b9404d39021afae7",
            "b9ad853884254fb78cae500557cd166c",
            "c6a6cb9f0640491b990e8638b7466d43",
            "e39580298bc04247953604f14841c583",
            "44abaf4e9d1f4ba695656fd245e7d25f",
            "477ec80bdb42464b9dac07271ab9ba9b",
            "36f5cff23dcc4206a786ae5ca352e9ef",
            "964a08a6867044ca989d16af31a06886",
            "5f65e2815e584ff385078b3d69330677",
            "d48352ed9c194a2bb8570a8de67aec44",
            "58f8586fa7f74d89b9d08494fbcd976c",
            "b8fba0e025434a5f991054805714d7de",
            "2a9bf324caf440719f2b1a445b49fd97",
            "37433f3b96434ba9ad880eb8dc65d470",
            "bef682affecd4eea8354d33844f57c6c",
            "3ae943c82dce4f3d9f5b47ec85e031b7",
            "f4f72c6de0c64f11a0a1103354b02d9d",
            "7fcd5f7679d64c8891f5e83850727de3",
            "e78417c7017c4e0f8a066e4da4d561a1",
            "6c84ecef0b9a45f1b7c55eb1ddc8fa3c",
            "7a4b5740a9514daa824cbbf627681646",
            "0a0d0842c4fe43c3ab0c72397000cee1",
            "9808d86adfa4433e836f9fe86477d807",
            "cdaa1b098a564b7da49d1a12530bcb3a",
            "254adcae6c2b47d38a8c7ce8417c0c46",
            "8febfcedada54f159774abf9bbead52a",
            "2260f937d2a54b6d94935124147ad8d5",
            "e325ce39228d41baa984ec749f4c6ffc",
            "596dfb2d2c9646c9a8cc3ab8ee9fdb72",
            "d31eb4865c304aadbb1c854009c9af23",
            "e3d206568f43407698d51b8391ff7989",
            "704e874513ec47f2bf1f596e3532e1f3",
            "8e5d252e82bb4314a38c90bfb4200813",
            "b5f455a57c93466c9c315dee45d2b1eb",
            "bddddf28d7024bfb9b4f5c1f8ead1a48",
            "c33bc59c48e94b7fb824a0f061ac8987",
            "eb7cea786bc84a3499f167938e64a512",
            "1365d5e877df4ea1911a9ecab7b96b8e",
            "af8198ca691c4936bd611698eaa50ba3",
            "bd7e9a9f744f452ebf4db69fd04c1dd4",
            "e95fef756688471182aac36ad653445a",
            "17d77f86166d4f62bc5739f6512fdc0b",
            "4a43b83662f544c59338a38b37e06ce8",
            "3699837149fb45ea9fa9358f1032bc09",
            "968b2b096aac42c3a0f3875443a58c9e",
            "0d9565c163194d14a80643a2ab27ae85",
            "da9db9b77b0d4362b42f588597118746",
            "251d48d3b0514722a597e414750c1e3d",
            "d87207d517d44741b13daeabf3c4e180",
            "bdf8373a058c4bedbbcbbbcb01cacd59",
            "a7b2b2a78dce4599858ad115ff5305b0",
            "50c3d996b2904ef8bbe1812eb0e0edc4",
            "a7573cfddd634b389b5e4563484eaa72",
            "3212a270cb2a457fbca37f03c0b992c7",
            "8eaa5fd180a54f12901f33dbb1120ac2",
            "07ede5a454b9492fafd8c726016a3200",
            "4de5e58d45ed4719be9659fe783866a1",
            "7ffef952381c46d9afebcb36d98392a9",
            "d0fd1633e00d489499636343b41fd74c",
            "b2a6f73fbfa64914b1862c1008831c6f",
            "72fcb4ad214b4c0c98ca6ea01f4a137f",
            "6950e1231cc64077ac3fb20090f78f17",
            "373f2e83384146a58a8d74be6a6441d9",
            "36a59a9b432c4a1784d6799d336dc0a1",
            "550bd411126f41a4a51221313346ac9a",
            "d12bd93e402a404cb844c5f1f72c605e",
            "f29de6b0b56549cc99a215a2d544ec52",
            "b3bd459b69704583ba393fb45445bd4e",
            "8798916cd02446c69038fe361d320ecd",
            "a67894e66bff41b4a935a350064ceffb",
            "1ed624392f834bbc930684e62a79d65c",
            "b7b7d0cbe2d7496cba3069c55874847e",
            "4793d356f553441e82073100974727f4",
            "8d8824ef91224e48a211820c6237bd77",
            "59300742776149fb985b937d1c0b475b",
            "c39239c27d8d48bdb7946a341ccf983f",
            "534f481980e947da93f28306ccf06f48",
            "d172aa6e716f453ba5a4c0dffbe8753f",
            "7980945087764949a08e96b12d4410fb",
            "5f19fafefcfa4aff847973d265059821",
            "5cb39fc327c74a698aa9b9850b271e03",
            "3859b59d351545389a4d6d97068b75c2",
            "a4fc3251ba8c42809e7c911e87ed08fd",
            "cb8796512c484e1d8ee011bda07df15a",
            "3ad41bd3f0b84fda898f5531adc1266d",
            "e549deeff3704e0fac65ee0f679bf327",
            "b9e8150ee9b54b77a93cd706cc375a07",
            "a5d22b850baa412b81213a01045ecaf7",
            "a36384711c304724b36ba5f19f165a11",
            "9eaf85eeefbe4abda5427e511731cc3e",
            "669fad27a08f4558a0bdb26a5ab90464",
            "7b8a87adfb28486da2847fdcd88f52c7",
            "5d7ee1cd9b1e4545831fe9b4d508e4ef",
            "86f30c706dc94c489956f4a508c1868c",
            "35ec0c01960c4fed9cb8c9b1470d2b5c",
            "cfb5ddde6c8840e297683a444e0a1cdd",
            "5f865b7d552d45838a392a0e58c16f20",
            "c1ff40c34fd0407ca53368ca6f330a4b",
            "93bb264b36dc4d868f15efef58b52e9e",
            "255213cc4a7a458e9357ccfd14be811f",
            "03d72f515c1b421d817224e2086f1d25",
            "71abd5a36eaf4019b65b2d34b2618459",
            "5033fe2b840b498e91d0c7134b13f736",
            "2f05275b4fce49b2ab78e664eb74d595",
            "34d685148edc4e0cb788d7e782803b0c",
            "4971db144e4748dcbcbbd5e4d6469291",
            "a433c6bbfb584fada2971a05ca777c1d",
            "846a3a8ce0ba4311bb1d17240b5110c6",
            "36e42aec678e4dfe931a8cd696940275",
            "d7d0a77141884e2eaf0be86603059e07",
            "479790d480e14141939420f129f77c74",
            "9673123a687d47f5b8f0002cbca67a11",
            "15f15c464c794e95b281088673aa8495",
            "d6f08679df3b44459043ae84a4d7a042",
            "69f60f66b923497fb28f6c5d0d20bf14",
            "48d31da020c240778503fe4e0b0d71fa",
            "f2a0e6ba11d246a4a3b15675311bd4eb",
            "059aed31ca7c4f69ad661449cfd2ecc0",
            "59e0081637b744b59e56ba450316b836",
            "c2c38e5490ee4f0b903a4e5a59a4e35c",
            "8613f245df4c4fa7b650fc1cfeca7dc3",
            "a638a4d7a7b7407b8bf4853d175e74ec",
            "d3c92de9fb7e42ba8b2e16426383c232",
            "50a84a23dda845098e8774fd077194e9",
            "949ddbcdc06940adac759091fbccc02c"
          ]
        },
        "id": "HDRcWj4aRlAS",
        "outputId": "5b4a2283-8f04-4774-c388-8551988627e8"
      },
      "execution_count": null,
      "outputs": [
        {
          "output_type": "display_data",
          "data": {
            "text/plain": [
              "tokenizer_config.json:   0%|          | 0.00/55.4k [00:00<?, ?B/s]"
            ],
            "application/vnd.jupyter.widget-view+json": {
              "version_major": 2,
              "version_minor": 0,
              "model_id": "ea9f7178b5ec4df2a038995209999ed7"
            }
          },
          "metadata": {}
        },
        {
          "output_type": "display_data",
          "data": {
            "text/plain": [
              "tokenizer.json:   0%|          | 0.00/9.09M [00:00<?, ?B/s]"
            ],
            "application/vnd.jupyter.widget-view+json": {
              "version_major": 2,
              "version_minor": 0,
              "model_id": "44abaf4e9d1f4ba695656fd245e7d25f"
            }
          },
          "metadata": {}
        },
        {
          "output_type": "display_data",
          "data": {
            "text/plain": [
              "special_tokens_map.json:   0%|          | 0.00/296 [00:00<?, ?B/s]"
            ],
            "application/vnd.jupyter.widget-view+json": {
              "version_major": 2,
              "version_minor": 0,
              "model_id": "3ae943c82dce4f3d9f5b47ec85e031b7"
            }
          },
          "metadata": {}
        },
        {
          "output_type": "display_data",
          "data": {
            "text/plain": [
              "config.json:   0%|          | 0.00/855 [00:00<?, ?B/s]"
            ],
            "application/vnd.jupyter.widget-view+json": {
              "version_major": 2,
              "version_minor": 0,
              "model_id": "2260f937d2a54b6d94935124147ad8d5"
            }
          },
          "metadata": {}
        },
        {
          "output_type": "display_data",
          "data": {
            "text/plain": [
              "model.safetensors.index.json:   0%|          | 0.00/23.9k [00:00<?, ?B/s]"
            ],
            "application/vnd.jupyter.widget-view+json": {
              "version_major": 2,
              "version_minor": 0,
              "model_id": "1365d5e877df4ea1911a9ecab7b96b8e"
            }
          },
          "metadata": {}
        },
        {
          "output_type": "display_data",
          "data": {
            "text/plain": [
              "Fetching 4 files:   0%|          | 0/4 [00:00<?, ?it/s]"
            ],
            "application/vnd.jupyter.widget-view+json": {
              "version_major": 2,
              "version_minor": 0,
              "model_id": "d87207d517d44741b13daeabf3c4e180"
            }
          },
          "metadata": {}
        },
        {
          "output_type": "display_data",
          "data": {
            "text/plain": [
              "model-00001-of-00004.safetensors:   0%|          | 0.00/4.98G [00:00<?, ?B/s]"
            ],
            "application/vnd.jupyter.widget-view+json": {
              "version_major": 2,
              "version_minor": 0,
              "model_id": "b2a6f73fbfa64914b1862c1008831c6f"
            }
          },
          "metadata": {}
        },
        {
          "output_type": "display_data",
          "data": {
            "text/plain": [
              "model-00002-of-00004.safetensors:   0%|          | 0.00/5.00G [00:00<?, ?B/s]"
            ],
            "application/vnd.jupyter.widget-view+json": {
              "version_major": 2,
              "version_minor": 0,
              "model_id": "1ed624392f834bbc930684e62a79d65c"
            }
          },
          "metadata": {}
        },
        {
          "output_type": "display_data",
          "data": {
            "text/plain": [
              "model-00003-of-00004.safetensors:   0%|          | 0.00/4.92G [00:00<?, ?B/s]"
            ],
            "application/vnd.jupyter.widget-view+json": {
              "version_major": 2,
              "version_minor": 0,
              "model_id": "3859b59d351545389a4d6d97068b75c2"
            }
          },
          "metadata": {}
        },
        {
          "output_type": "display_data",
          "data": {
            "text/plain": [
              "model-00004-of-00004.safetensors:   0%|          | 0.00/1.17G [00:00<?, ?B/s]"
            ],
            "application/vnd.jupyter.widget-view+json": {
              "version_major": 2,
              "version_minor": 0,
              "model_id": "5d7ee1cd9b1e4545831fe9b4d508e4ef"
            }
          },
          "metadata": {}
        },
        {
          "output_type": "display_data",
          "data": {
            "text/plain": [
              "Loading checkpoint shards:   0%|          | 0/4 [00:00<?, ?it/s]"
            ],
            "application/vnd.jupyter.widget-view+json": {
              "version_major": 2,
              "version_minor": 0,
              "model_id": "2f05275b4fce49b2ab78e664eb74d595"
            }
          },
          "metadata": {}
        },
        {
          "output_type": "display_data",
          "data": {
            "text/plain": [
              "generation_config.json:   0%|          | 0.00/184 [00:00<?, ?B/s]"
            ],
            "application/vnd.jupyter.widget-view+json": {
              "version_major": 2,
              "version_minor": 0,
              "model_id": "69f60f66b923497fb28f6c5d0d20bf14"
            }
          },
          "metadata": {}
        },
        {
          "output_type": "stream",
          "name": "stderr",
          "text": [
            "The attention mask and the pad token id were not set. As a consequence, you may observe unexpected behavior. Please pass your input's `attention_mask` to obtain reliable results.\n",
            "Setting `pad_token_id` to `eos_token_id`:128001 for open-end generation.\n",
            "The attention mask is not set and cannot be inferred from input because pad token is same as eos token. As a consequence, you may observe unexpected behavior. Please pass your input's `attention_mask` to obtain reliable results.\n"
          ]
        }
      ]
    },
    {
      "cell_type": "code",
      "source": [
        "# Clearing Outputs\n",
        "\n",
        "generated_ids = outputs[0][inputs.shape[1]:]\n",
        "prefix_tokens = tokenizer(\"<|start_header_id|>assistant<|end_header_id|>\", add_special_tokens=False).input_ids\n",
        "\n",
        "if generated_ids[:len(prefix_tokens)].tolist() == prefix_tokens:\n",
        "    generated_ids = generated_ids[len(prefix_tokens):]\n",
        "\n",
        "\n",
        "response = tokenizer.decode(generated_ids, skip_special_tokens=True)"
      ],
      "metadata": {
        "id": "PojNonhASTLe"
      },
      "execution_count": null,
      "outputs": []
    },
    {
      "cell_type": "code",
      "source": [
        "# Display in Markdown\n",
        "\n",
        "display(Markdown(response))"
      ],
      "metadata": {
        "colab": {
          "base_uri": "https://localhost:8080/",
          "height": 436
        },
        "id": "0GSEWngaTjIz",
        "outputId": "6560366d-ce8c-485d-d9fa-6c3a22e29e1e"
      },
      "execution_count": null,
      "outputs": [
        {
          "output_type": "display_data",
          "data": {
            "text/plain": [
              "<IPython.core.display.Markdown object>"
            ],
            "text/markdown": "\n\n**Summary of the YouTube Video: \"The Birthplace of Pyramid Building\"**\n\n**Introduction**\nThe video explores the mysterious reason behind the ancient Egyptians' decision to stop building giant pyramids, which were once the tombs of pharaohs. The pyramids, including the iconic ones at Giza, were constructed for only a few centuries despite the long-lasting Egyptian civilization.\n\n**Key Moments**\n\n* **Saqqara: The Birthplace of Pyramid Building**: The video takes us to Saqqara, ten miles south of the Pyramids of Giza, where Egypt's first pyramid was constructed a century before the iconic pyramids at Giza.\n* **The First Pyramid: Djoser's Mausoleum**: The pyramid is a 200-foot-tall mausoleum of six huge limestone platforms, carefully engineered to spread the weight of rock and prevent collapse. Inside, a giant shaft leads to the intended final resting place of the pharaoh Djoser.\n* **The Architectural Revolution**: The pyramid sparked an architectural revolution, and over the next century, Egypt's kings developed the concept, building monumental tombs along the Nile's west bank.\n\n**Main Ideas**\n\n* **Why Egyptians Stopped Building Giant Pyramids**: Egyptologists are still trying to piece together why the pharaohs stopped constructing giant pyramids after a few centuries.\n* **The Importance of Pyramids**: The pyramids were not just tombs designed to secure the pharaoh's physical body for eternity but also ensured the king was remembered by the living for success in the afterlife.\n\n**Highlights**\n\n* **The Red Pyramid and the Bent Pyramid**: The video mentions the first geometrically true pyramid, the Red Pyramid, and a misshapen experiment, the Bent Pyramid.\n* **The Great Pyramid of Khufu**: The video highlights the most iconic monuments in Egypt, the Pyramids of Giza, including the Great Pyramid of Khufu.\n* **The Legacy of Pyramid Building**: The video concludes that just a few short centuries after the Great Pyramid of Khufu rose from the desert, a new era was on the horizon, marking the end of the pyramid-building era."
          },
          "metadata": {}
        }
      ]
    }
  ]
}