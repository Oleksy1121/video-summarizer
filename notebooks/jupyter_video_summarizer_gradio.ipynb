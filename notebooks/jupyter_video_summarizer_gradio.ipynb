{
 "cells": [
  {
   "cell_type": "code",
   "execution_count": 1,
   "id": "f9f6856b-f11a-491f-8ab0-56a6ee54f74f",
   "metadata": {},
   "outputs": [],
   "source": [
    "import os\n",
    "import subprocess\n",
    "from openai import OpenAI\n",
    "from dotenv import load_dotenv\n",
    "from IPython.display import display, Markdown\n",
    "import time\n",
    "import gradio as gr "
   ]
  },
  {
   "cell_type": "code",
   "execution_count": 2,
   "id": "26044172-4062-46fc-a86a-b2478978a039",
   "metadata": {},
   "outputs": [
    {
     "name": "stdout",
     "output_type": "stream",
     "text": [
      "Api key exists and begin: sk-proj...\n"
     ]
    }
   ],
   "source": [
    "# Load ENV\n",
    "\n",
    "load_dotenv()\n",
    "\n",
    "open_ai_api_key = os.getenv(\"OPENAI_API_KEY\")\n",
    "if open_ai_api_key:\n",
    "    print(f\"Api key exists and begin: {open_ai_api_key[:7]}...\")\n",
    "else:\n",
    "    print(\"Api key not found.\")"
   ]
  },
  {
   "cell_type": "code",
   "execution_count": 3,
   "id": "d289c4ed-46e3-4dcf-b56c-95b976f147af",
   "metadata": {},
   "outputs": [],
   "source": [
    "# iniciaze a openai\n",
    "\n",
    "openai = OpenAI()"
   ]
  },
  {
   "cell_type": "code",
   "execution_count": 4,
   "id": "c2b90484-330c-4595-a512-afbaf19c6fea",
   "metadata": {},
   "outputs": [],
   "source": [
    "# SET CONSTANS\n",
    "\n",
    "TRANSCRIPTION_MODEL = 'whisper-1'\n",
    "SUMMARIZE_MODEL = \"gpt-4o-mini\"\n",
    "\n",
    "VIDEO_URL = \"https://www.youtube.com/watch?v=toJfrYinzJ8\"\n",
    "AUDIO_FILENAME = 'audio/audio_from_wideo.mp3'"
   ]
  },
  {
   "cell_type": "code",
   "execution_count": 5,
   "id": "252ab871-fc7e-4bde-964b-468ceb3e26e9",
   "metadata": {},
   "outputs": [],
   "source": [
    "# Download audio from URL VIDEO\n",
    "\n",
    "def download_audio(url, audio_filename=AUDIO_FILENAME):\n",
    "    if os.path.exists(audio_filename):\n",
    "        os.remove(audio_filename)\n",
    "        # print(\"Old audio file has been deleted.\")\n",
    "        \n",
    "    subprocess.run([\n",
    "        \"yt-dlp\",\n",
    "        \"-x\",                        # only audio\n",
    "        \"--audio-format\", \"mp3\",     # convert to mp3\n",
    "        \"--force-overwrites\",        # forve override file\n",
    "        \"-o\", audio_filename,        # save file\n",
    "        url\n",
    "    ])\n",
    "\n",
    "    # print(f'Audio has been downloaded as file \"{AUDIO_FILENAME}\".')\n",
    "\n",
    "# download_audio(VIDEO_URL, AUDIO_FILENAME)\n"
   ]
  },
  {
   "cell_type": "code",
   "execution_count": 6,
   "id": "5c8c72e0-8db5-4ca2-9acc-068bdc563218",
   "metadata": {},
   "outputs": [],
   "source": [
    "# Create Transcription from video\n",
    "\n",
    "def get_transcription(audio_filename=AUDIO_FILENAME, model=TRANSCRIPTION_MODEL, verbose=False):\n",
    "    with open(audio_filename, 'rb') as audio_file:\n",
    "        transcription = openai.audio.transcriptions.create(model=model, file=audio_file, response_format=\"text\")\n",
    "    print(transcription[:200]) if verbose else None\n",
    "    return transcription\n",
    "\n",
    "# transcription = get_transcription(audio_filename=AUDIO_FILENAME, model=TRANSCRIPTION_MODEL, verbose=True)"
   ]
  },
  {
   "cell_type": "code",
   "execution_count": 7,
   "id": "84f3a2c8-430b-4e97-906a-8da5640c2419",
   "metadata": {},
   "outputs": [],
   "source": [
    "# Set prompts for summarizing\n",
    "\n",
    "system_message = \"You are an assistant that summarizes YouTube videos by highlighting the most important points and events, in clear Markdown format.\"\n",
    "user_prompt = f\"Below is the transcript of a YouTube video. Please write a summary describing the key moments, main ideas, and highlights in a structured way (using bullet points or short sections).\"\n"
   ]
  },
  {
   "cell_type": "code",
   "execution_count": 8,
   "id": "5927bfe4-9e50-4dd0-b078-9c86179ce9e9",
   "metadata": {},
   "outputs": [],
   "source": [
    "def get_summarize(transcription, model=SUMMARIZE_MODEL, system_message=system_message, user_prompt=user_prompt):\n",
    "    messages = [\n",
    "        {\"role\": \"system\", \"content\": system_message},\n",
    "        {\"role\": \"user\", \"content\": f\"{user_prompt}\\n\\n{transcription}\"}\n",
    "    ]\n",
    "\n",
    "    completions = openai.chat.completions.create(\n",
    "        model=model,\n",
    "        messages=messages\n",
    "    )\n",
    "\n",
    "    return completions.choices[0].message.content\n",
    "\n",
    "# summarize = get_summarize(model=SUMMARIZE_MODEL, system_message=system_message, user_prompt=user_prompt)"
   ]
  },
  {
   "cell_type": "code",
   "execution_count": 9,
   "id": "b3a9874f-b892-4bce-970b-184bd464ca27",
   "metadata": {},
   "outputs": [],
   "source": [
    "def process_video(url_to_wideo, progress=gr.Progress()):\n",
    "    \n",
    "    progress(0, desc=\"Downloading audio...\")\n",
    "    time.sleep(2)\n",
    "    download_audio(url_to_wideo)\n",
    "    \n",
    "    progress(0.5, desc=\"Generating transcription...\")  # pokazujemy loader\n",
    "    time.sleep(2)\n",
    "    transcription = get_transcription()\n",
    "    \n",
    "    progress(0.8, desc=\"Generating summary...\")  # pokazujemy loader\n",
    "    time.sleep(2) \n",
    "    summarize = get_summarize(transcription=transcription)\n",
    "\n",
    "    progress(1.0, desc=\"Done!\")\n",
    "    return gr.update(visible=False), summarize\n",
    "\n",
    "\n",
    "def clear_output():\n",
    "    # ukrywa progress_dummy i czyści Markdown\n",
    "    return gr.update(visible=False), \"\""
   ]
  },
  {
   "cell_type": "code",
   "execution_count": 10,
   "id": "1d280b0b-7292-4ed8-9821-90539454736c",
   "metadata": {},
   "outputs": [
    {
     "name": "stdout",
     "output_type": "stream",
     "text": [
      "* Running on local URL:  http://127.0.0.1:7860\n",
      "* To create a public link, set `share=True` in `launch()`.\n"
     ]
    },
    {
     "data": {
      "text/html": [
       "<div><iframe src=\"http://127.0.0.1:7860/\" width=\"100%\" height=\"500\" allow=\"autoplay; camera; microphone; clipboard-read; clipboard-write;\" frameborder=\"0\" allowfullscreen></iframe></div>"
      ],
      "text/plain": [
       "<IPython.core.display.HTML object>"
      ]
     },
     "metadata": {},
     "output_type": "display_data"
    }
   ],
   "source": [
    "with gr.Blocks() as demo:\n",
    "    gr.Markdown(\n",
    "    \"\"\"\n",
    "    # Welcome in Video Summarizer!\n",
    "    ---\n",
    "    \"\"\")\n",
    "    \n",
    "    url_box = gr.Textbox(label=\"Paste link to video\")\n",
    "    with gr.Row():\n",
    "        submit_btn = gr.Button(\"Sumbit\", variant=\"primary\")\n",
    "        clear_btn = gr.Button(\"Clear\") \n",
    "\n",
    "    output_md = gr.Markdown(label=\"Wynik\")\n",
    "    progress_dummy = gr.Textbox(visible=False, show_label=False)\n",
    "\n",
    "    submit_btn.click(\n",
    "        fn=lambda x: gr.update(visible=True), \n",
    "        inputs=url_box,\n",
    "        outputs=progress_dummy\n",
    "    ).then(\n",
    "        fn=process_video,                      \n",
    "        inputs=url_box,\n",
    "        outputs=[progress_dummy, output_md]\n",
    "    )\n",
    "\n",
    "    clear_btn.click(\n",
    "        fn=clear_output,\n",
    "        inputs=None,\n",
    "        outputs=[progress_dummy, output_md]\n",
    "    )\n",
    "\n",
    "    \n",
    "if __name__ == \"__main__\":\n",
    "    demo.launch()\n"
   ]
  },
  {
   "cell_type": "code",
   "execution_count": null,
   "id": "0a60a358-2d66-44d4-9db3-cdcf998965cf",
   "metadata": {},
   "outputs": [],
   "source": []
  }
 ],
 "metadata": {
  "kernelspec": {
   "display_name": "Python 3 (ipykernel)",
   "language": "python",
   "name": "python3"
  },
  "language_info": {
   "codemirror_mode": {
    "name": "ipython",
    "version": 3
   },
   "file_extension": ".py",
   "mimetype": "text/x-python",
   "name": "python",
   "nbconvert_exporter": "python",
   "pygments_lexer": "ipython3",
   "version": "3.12.11"
  }
 },
 "nbformat": 4,
 "nbformat_minor": 5
}
